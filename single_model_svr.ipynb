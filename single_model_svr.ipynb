{
 "cells": [
  {
   "cell_type": "code",
   "execution_count": null,
   "metadata": {
    "ExecuteTime": {
     "end_time": "2019-04-07T01:45:36.597590Z",
     "start_time": "2019-04-07T01:45:35.473320Z"
    }
   },
   "outputs": [],
   "source": [
    "\n",
    "import warnings\n",
    "import utils\n",
    "\n",
    "from sklearn.svm import SVR\n",
    "\n",
    "%load_ext autoreload\n",
    "%autoreload 2\n",
    "warnings.filterwarnings('ignore')\n",
    "%matplotlib inline\n",
    "\n",
    "\n",
    "model_execs = 1\n",
    "data_title = 'svr'\n",
    "\n",
    "\n",
    "\n",
    "parameters = {'C':[10, 100, 1000], 'gamma': [0.1, 0.01, 0.001],\n",
    "                  'kernel':[\"rbf\"],\n",
    "                  'epsilon': [0.1, 0.01, 0.001], 'tol':[0.001],\n",
    "                  'time_window': [12]\n",
    "                 }\n",
    "\n",
    "model = SVR(max_iter=10000)\n",
    "utils.train_sklearn(model_execs, data_title, parameters, model)"
   ]
  },
  {
   "cell_type": "code",
   "execution_count": null,
   "metadata": {},
   "outputs": [],
   "source": []
  }
 ],
 "metadata": {
  "anaconda-cloud": {},
  "kernelspec": {
   "display_name": "Python 3",
   "language": "python",
   "name": "python3"
  },
  "language_info": {
   "codemirror_mode": {
    "name": "ipython",
    "version": 3
   },
   "file_extension": ".py",
   "mimetype": "text/x-python",
   "name": "python",
   "nbconvert_exporter": "python",
   "pygments_lexer": "ipython3",
   "version": "3.6.8"
  },
  "varInspector": {
   "cols": {
    "lenName": 16,
    "lenType": 16,
    "lenVar": 40
   },
   "kernels_config": {
    "python": {
     "delete_cmd_postfix": "",
     "delete_cmd_prefix": "del ",
     "library": "var_list.py",
     "varRefreshCmd": "print(var_dic_list())"
    },
    "r": {
     "delete_cmd_postfix": ") ",
     "delete_cmd_prefix": "rm(",
     "library": "var_list.r",
     "varRefreshCmd": "cat(var_dic_list()) "
    }
   },
   "types_to_exclude": [
    "module",
    "function",
    "builtin_function_or_method",
    "instance",
    "_Feature"
   ],
   "window_display": false
  }
 },
 "nbformat": 4,
 "nbformat_minor": 1
}
