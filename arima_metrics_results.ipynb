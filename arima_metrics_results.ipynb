{
 "cells": [
  {
   "cell_type": "code",
   "execution_count": 7,
   "metadata": {},
   "outputs": [
    {
     "name": "stdout",
     "output_type": "stream",
     "text": [
      "The autoreload extension is already loaded. To reload it, use:\n",
      "  %reload_ext autoreload\n"
     ]
    }
   ],
   "source": [
    "import json\n",
    "import time\n",
    "import os\n",
    "\n",
    "import pandas as pd\n",
    "\n",
    "import src.time_series_functions as tsf\n",
    "\n",
    "    \n",
    "%load_ext autoreload\n",
    "%autoreload 2"
   ]
  },
  {
   "cell_type": "code",
   "execution_count": 8,
   "metadata": {},
   "outputs": [],
   "source": [
    "config_path = './'\n",
    "save_path = './solar_rad/'\n",
    "with open(f'{config_path}models_configuration_60_20_20.json') as f:\n",
    "    data = json.load(f)\n",
    "data_title = 'arima'"
   ]
  },
  {
   "cell_type": "code",
   "execution_count": 10,
   "metadata": {
    "scrolled": false
   },
   "outputs": [
    {
     "name": "stdout",
     "output_type": "stream",
     "text": [
      "salvador_1\n",
      "./solar_rad/1-arima/1-arima-c850db9a-c445-4010-91bb-51b9500c68be.pkl\n",
      "fortaleza_1\n",
      "./solar_rad/2-arima/2-arima-8235414c-cb28-4d6a-8539-cfa78d7b4179.pkl\n",
      "saopaulo_1\n",
      "./solar_rad/4-arima/4-arima-10d6f5bb-b755-4a5a-9e97-949b105c4e15.pkl\n",
      "florianopolis_1\n",
      "./solar_rad/5-arima/5-arima-24bdd7a1-1927-4e02-bc8e-787d45a228ac.pkl\n"
     ]
    }
   ],
   "source": [
    "for i in data:\n",
    "    if i['activate']:\n",
    "        min_max = i['hour_min_max']\n",
    "        real  = tsf.load_data_solar_hours(i['path_data'], min_max, False, False)\n",
    "\n",
    "        predicted = pd.read_csv(i[f'{data_title}_path'], sep=';')['x']\n",
    "        predicted = [0 if p <0 else p for p in predicted]\n",
    "        predicted = predicted\n",
    "        print(i['name'])\n",
    "        test_size=i['test_size']\n",
    "        val_size=i['val_size']\n",
    "        type_data = i['type_data']\n",
    "        if real.shape[0] != len(predicted):\n",
    "            real = real[-len(predicted):]\n",
    "            \n",
    "        save_path_actual = save_path+str(type_data)+'-'+data_title+'/'\n",
    "        os.mkdir(save_path_actual)\n",
    "\n",
    "        title_temp = str(type_data)+ '-' + data_title\n",
    "        \n",
    "        print(tsf.make_metrics_avaliation(real, predicted, test_size,\n",
    "                                           0,\n",
    "                                           tsf.result_options.save_result, None,\n",
    "                                           save_path_actual+title_temp))"
   ]
  },
  {
   "cell_type": "code",
   "execution_count": null,
   "metadata": {},
   "outputs": [],
   "source": []
  }
 ],
 "metadata": {
  "anaconda-cloud": {},
  "kernelspec": {
   "display_name": "Python 3",
   "language": "python",
   "name": "python3"
  },
  "language_info": {
   "codemirror_mode": {
    "name": "ipython",
    "version": 3
   },
   "file_extension": ".py",
   "mimetype": "text/x-python",
   "name": "python",
   "nbconvert_exporter": "python",
   "pygments_lexer": "ipython3",
   "version": "3.6.8"
  }
 },
 "nbformat": 4,
 "nbformat_minor": 1
}
