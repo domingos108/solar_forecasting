{
 "cells": [
  {
   "cell_type": "code",
   "execution_count": null,
   "metadata": {},
   "outputs": [],
   "source": [
    "\n",
    "import warnings\n",
    "from src import fit_predict_models as fpm\n",
    "\n",
    "from sklearn.ensemble import RandomForestRegressor\n",
    "\n",
    "%load_ext autoreload\n",
    "%autoreload 2\n",
    "warnings.filterwarnings('ignore')\n",
    "%matplotlib inline\n",
    "\n",
    "\n",
    "model_execs = 10\n",
    "data_title = 'rf'\n",
    "\n",
    "\n",
    "parameters = {'n_estimators': [50, 100, 200], \n",
    "                  'max_depth': [5, 10, 15],\n",
    "                  'max_features': [0.6, 0.8, 1],\n",
    "                  #'max_samples' : [0.6, 0.8, 1],\n",
    "                  'time_window': [12]\n",
    "                 }\n",
    "model = RandomForestRegressor()\n",
    "fpm.train_sklearn(model_execs, data_title, parameters, model)"
   ]
  },
  {
   "cell_type": "code",
   "execution_count": null,
   "metadata": {},
   "outputs": [],
   "source": []
  }
 ],
 "metadata": {
  "anaconda-cloud": {},
  "kernelspec": {
   "display_name": "Python 3",
   "language": "python",
   "name": "python3"
  },
  "language_info": {
   "codemirror_mode": {
    "name": "ipython",
    "version": 3
   },
   "file_extension": ".py",
   "mimetype": "text/x-python",
   "name": "python",
   "nbconvert_exporter": "python",
   "pygments_lexer": "ipython3",
   "version": "3.6.8"
  }
 },
 "nbformat": 4,
 "nbformat_minor": 1
}
