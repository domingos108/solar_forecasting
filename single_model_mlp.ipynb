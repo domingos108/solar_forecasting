{
 "cells": [
  {
   "cell_type": "code",
   "execution_count": null,
   "metadata": {},
   "outputs": [],
   "source": [
    "\n",
    "import warnings\n",
    "import utils\n",
    "\n",
    "from sklearn.neural_network import MLPRegressor\n",
    "\n",
    "%load_ext autoreload\n",
    "%autoreload 2\n",
    "warnings.filterwarnings('ignore')\n",
    "%matplotlib inline\n",
    "\n",
    "\n",
    "model_execs = 10\n",
    "data_title = 'mlp'\n",
    "\n",
    "\n",
    "parameters = {'hidden_layer_sizes': [20, 50, 100], \n",
    "                  'max_iter': [1000],\n",
    "                  'tol': [0.001, 0.0001, 0.00001],\n",
    "                  'time_window': [12]\n",
    "                 }\n",
    "\n",
    "\n",
    "model = MLPRegressor(activation='logistic', solver='lbfgs') \n",
    "utils.train_sklearn(model_execs, data_title, parameters, model)"
   ]
  },
  {
   "cell_type": "code",
   "execution_count": null,
   "metadata": {},
   "outputs": [],
   "source": []
  }
 ],
 "metadata": {
  "anaconda-cloud": {},
  "kernelspec": {
   "display_name": "Python 3",
   "language": "python",
   "name": "python3"
  },
  "language_info": {
   "codemirror_mode": {
    "name": "ipython",
    "version": 3
   },
   "file_extension": ".py",
   "mimetype": "text/x-python",
   "name": "python",
   "nbconvert_exporter": "python",
   "pygments_lexer": "ipython3",
   "version": "3.6.8"
  }
 },
 "nbformat": 4,
 "nbformat_minor": 1
}
