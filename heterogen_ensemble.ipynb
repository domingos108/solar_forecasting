{
 "cells": [
  {
   "cell_type": "code",
   "execution_count": null,
   "metadata": {},
   "outputs": [],
   "source": [
    "import json\n",
    "import time\n",
    "\n",
    "from sklearn.model_selection import ParameterGrid\n",
    "import heterogen_ensemble as he\n",
    "import utils\n",
    "%load_ext autoreload\n",
    "%autoreload 2\n"
   ]
  },
  {
   "cell_type": "code",
   "execution_count": null,
   "metadata": {},
   "outputs": [],
   "source": [
    "\n",
    "\n",
    "config_path = './'\n",
    "save_path = './solar_rad/'\n",
    "\n",
    "with open(f'{config_path}models_configuration_60_20_20.json') as f:\n",
    "    data = json.load(f)\n",
    "models_list = ['arima',  'dbn', 'gb', 'rf', 'elm', 'mlp', 'svr']\n",
    "\n",
    "    "
   ]
  },
  {
   "cell_type": "code",
   "execution_count": null,
   "metadata": {},
   "outputs": [],
   "source": [
    "parameters = {'rc': [5, 10, 20], \n",
    "              'lag_size':[12], 'k':[1, 3, 5]}"
   ]
  },
  {
   "cell_type": "code",
   "execution_count": null,
   "metadata": {},
   "outputs": [],
   "source": [
    "list_params=list(ParameterGrid(parameters))\n",
    "\n",
    "for ds_args in list_params:\n",
    "    for i in data:\n",
    "        print(i['name'])\n",
    "        test_size=i['test_size']\n",
    "        val_size=i['val_size']\n",
    "        type_data = i['type_data']\n",
    "        time_window = None\n",
    "        horizon = i['horzion']\n",
    "        min_max = i['hour_min_max']\n",
    "\n",
    "        params_title = '_'.join([f'{k}_{item}'for k, item in ds_args.items()])\n",
    "        ens_type= 'ds'\n",
    "        data_title= f'het_{ens_type}_{params_title}'\n",
    "\n",
    "        real = utils.load_data_solar_hours(i['path_data'], min_max, False, False)['actual'].values\n",
    "\n",
    "        save_path_actual = save_path+str(type_data)+'-'+data_title+'/'\n",
    "        title_temp = str(type_data)+ '-' + data_title\n",
    "        title = save_path_actual+title_temp\n",
    "        os.mkdir(save_path_actual)\n",
    "        he.dispach(i, real, save_path, models_list, title, ens_type=ens_type, ds_args=ds_args, execs = 10)"
   ]
  },
  {
   "cell_type": "code",
   "execution_count": null,
   "metadata": {},
   "outputs": [],
   "source": []
  }
 ],
 "metadata": {
  "kernelspec": {
   "display_name": "Python 3.6.8 64-bit ('py scripts': pipenv)",
   "language": "python",
   "name": "python36864bitpyscriptspipenv60f44d0313044d11a91765b5ef329b2f"
  },
  "language_info": {
   "codemirror_mode": {
    "name": "ipython",
    "version": 3
   },
   "file_extension": ".py",
   "mimetype": "text/x-python",
   "name": "python",
   "nbconvert_exporter": "python",
   "pygments_lexer": "ipython3",
   "version": "3.6.8"
  }
 },
 "nbformat": 4,
 "nbformat_minor": 2
}
