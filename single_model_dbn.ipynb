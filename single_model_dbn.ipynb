{
 "cells": [
  {
   "cell_type": "code",
   "execution_count": null,
   "metadata": {},
   "outputs": [],
   "source": [
    "# model disponible at https://github.com/albertbup/deep-belief-network/blob/master/README.md\n",
    "\n",
    "import warnings\n",
    "from src import fit_predict_models as fpm\n",
    "\n",
    "from deep_belief_network.dbn.models import SupervisedDBNRegression\n",
    "\n",
    "%load_ext autoreload\n",
    "%autoreload 2\n",
    "warnings.filterwarnings('ignore')\n",
    "%matplotlib inline\n",
    "\n",
    "\n",
    "model_execs = 10\n",
    "data_title = 'mlp'\n",
    "\n",
    "\n",
    "parameters = {'hidden_layers_structure': [100, 200], \n",
    "                  'learning_rate_rbm': [0.01,0.001],\n",
    "                  'learning_rate': [0.01,0.001],\n",
    "                  'time_window': [12]\n",
    "                 }\n",
    "model = SupervisedDBNRegression(n_epochs_rbm=20,\n",
    "                                n_iter_backprop=200,\n",
    "                                batch_size=16,\n",
    "                                activation_function='relu',  verbose=False)\n",
    "\n",
    "utils.train_sklearn(model_execs, data_title, parameters, model)"
   ]
  },
  {
   "cell_type": "code",
   "execution_count": null,
   "metadata": {},
   "outputs": [],
   "source": []
  }
 ],
 "metadata": {
  "anaconda-cloud": {},
  "kernelspec": {
   "display_name": "Python 3",
   "language": "python",
   "name": "python3"
  },
  "language_info": {
   "codemirror_mode": {
    "name": "ipython",
    "version": 3
   },
   "file_extension": ".py",
   "mimetype": "text/x-python",
   "name": "python",
   "nbconvert_exporter": "python",
   "pygments_lexer": "ipython3",
   "version": "3.6.8"
  }
 },
 "nbformat": 4,
 "nbformat_minor": 1
}
